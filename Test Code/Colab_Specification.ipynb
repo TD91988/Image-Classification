{
  "nbformat": 4,
  "nbformat_minor": 0,
  "metadata": {
    "colab": {
      "name": "Colab Specification.ipynb",
      "provenance": [],
      "include_colab_link": true
    },
    "kernelspec": {
      "name": "python3",
      "display_name": "Python 3"
    }
  },
  "cells": [
    {
      "cell_type": "markdown",
      "metadata": {
        "id": "view-in-github",
        "colab_type": "text"
      },
      "source": [
        "<a href=\"https://colab.research.google.com/github/x18134301/x18134301_TusharDalvi/blob/master/Colab_Specification.ipynb\" target=\"_parent\"><img src=\"https://colab.research.google.com/assets/colab-badge.svg\" alt=\"Open In Colab\"/></a>"
      ]
    },
    {
      "cell_type": "markdown",
      "metadata": {
        "id": "HIHYrISM1oK5",
        "colab_type": "text"
      },
      "source": [
        "# Colaboratory Environment"
      ]
    },
    {
      "cell_type": "code",
      "metadata": {
        "id": "2w-jCjga1mru",
        "colab_type": "code",
        "colab": {}
      },
      "source": [
        "#GPU count and name\n",
        "!nvidia-smi -L"
      ],
      "execution_count": 0,
      "outputs": []
    },
    {
      "cell_type": "code",
      "metadata": {
        "id": "1k37HaA11zJp",
        "colab_type": "code",
        "colab": {}
      },
      "source": [
        "!lscpu |grep 'Model name'"
      ],
      "execution_count": 0,
      "outputs": []
    },
    {
      "cell_type": "code",
      "metadata": {
        "id": "f3scK1mk14Op",
        "colab_type": "code",
        "colab": {}
      },
      "source": [
        "#if it had turbo boost it would've shown Min and Max MHz also but it is only showing current frequency this means it always operates at 2.3GHz\n",
        "!lscpu | grep \"MHz\""
      ],
      "execution_count": 0,
      "outputs": []
    },
    {
      "cell_type": "code",
      "metadata": {
        "id": "iAWRUm5e160F",
        "colab_type": "code",
        "colab": {}
      },
      "source": [
        "#memory that we can use\n",
        "!cat /proc/meminfo | grep 'MemAvailable'"
      ],
      "execution_count": 0,
      "outputs": []
    },
    {
      "cell_type": "code",
      "metadata": {
        "id": "5lDEehpS190J",
        "colab_type": "code",
        "colab": {}
      },
      "source": [
        "#hard disk that we can use\n",
        "!df -h / | awk '{print $4}'"
      ],
      "execution_count": 0,
      "outputs": []
    },
    {
      "cell_type": "markdown",
      "metadata": {
        "id": "CzCPrYxK2BPm",
        "colab_type": "text"
      },
      "source": [
        "# Overall Config"
      ]
    },
    {
      "cell_type": "code",
      "metadata": {
        "id": "BDg8wAma2ALq",
        "colab_type": "code",
        "colab": {}
      },
      "source": [
        "GPU: 1xTesla K80 , having 2496 CUDA cores, compute 3.7,  12GB(11.439GB Usable) GDDR5  VRAM\n",
        " \n",
        "CPU: 1xsingle core hyper threaded i.e(1 core, 2 threads) Xeon Processors @2.3Ghz (No Turbo Boost) , 45MB Cache\n",
        " \n",
        "RAM: ~12.6 GB Available\n",
        " \n",
        "Disk: ~320 GB Available \n",
        " \n",
        "For every 12hrs or so Disk, RAM, VRAM, CPU cache etc data that is on our alloted virtual machine will get erased "
      ],
      "execution_count": 0,
      "outputs": []
    }
  ]
}