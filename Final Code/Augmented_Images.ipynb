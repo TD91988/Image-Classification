{
  "nbformat": 4,
  "nbformat_minor": 0,
  "metadata": {
    "colab": {
      "name": "Augmented_Images.ipynb",
      "provenance": [],
      "include_colab_link": true
    },
    "kernelspec": {
      "name": "python3",
      "display_name": "Python 3"
    }
  },
  "cells": [
    {
      "cell_type": "markdown",
      "metadata": {
        "id": "view-in-github",
        "colab_type": "text"
      },
      "source": [
        "<a href=\"https://colab.research.google.com/github/x18134301/x18134301_TusharDalvi/blob/master/Augmented_Images.ipynb\" target=\"_parent\"><img src=\"https://colab.research.google.com/assets/colab-badge.svg\" alt=\"Open In Colab\"/></a>"
      ]
    },
    {
      "cell_type": "code",
      "metadata": {
        "id": "HD9PgUB4CsL5",
        "colab_type": "code",
        "colab": {
          "base_uri": "https://localhost:8080/",
          "height": 118
        },
        "outputId": "7e0d8972-d7c0-4f37-e21e-7858deb332ca"
      },
      "source": [
        "from google.colab import drive\n",
        "drive.mount('/content/gdrive')"
      ],
      "execution_count": 1,
      "outputs": [
        {
          "output_type": "stream",
          "text": [
            "Go to this URL in a browser: https://accounts.google.com/o/oauth2/auth?client_id=947318989803-6bn6qk8qdgf4n4g3pfee6491hc0brc4i.apps.googleusercontent.com&redirect_uri=urn%3aietf%3awg%3aoauth%3a2.0%3aoob&response_type=code&scope=email%20https%3a%2f%2fwww.googleapis.com%2fauth%2fdocs.test%20https%3a%2f%2fwww.googleapis.com%2fauth%2fdrive%20https%3a%2f%2fwww.googleapis.com%2fauth%2fdrive.photos.readonly%20https%3a%2f%2fwww.googleapis.com%2fauth%2fpeopleapi.readonly\n",
            "\n",
            "Enter your authorization code:\n",
            "··········\n",
            "Mounted at /content/gdrive\n"
          ],
          "name": "stdout"
        }
      ]
    },
    {
      "cell_type": "markdown",
      "metadata": {
        "id": "dhMY_chBFFXj",
        "colab_type": "text"
      },
      "source": [
        "# How to plot Augmented Images"
      ]
    },
    {
      "cell_type": "code",
      "metadata": {
        "id": "wPTLqQyWCtxa",
        "colab_type": "code",
        "colab": {}
      },
      "source": [
        "# Importing necessary functions \n",
        "from keras.preprocessing.image import ImageDataGenerator,  array_to_img, img_to_array, load_img \n",
        "   \n",
        "# Initialising the ImageDataGenerator class. \n",
        "# We will pass in the augmentation parameters in the constructor. \n",
        "datagen = ImageDataGenerator( \n",
        "    rotation_range=20, \n",
        "    width_shift_range=0.2, \n",
        "    height_shift_range=0.2, \n",
        "    horizontal_flip=True) \n",
        "    \n",
        "# Loading a sample image  \n",
        "img = load_img('/content/gdrive/My Drive/chest_xray/train/PNEUMONIA/person1945_bacteria_4872.jpeg')  \n",
        "# Converting the input sample image to an array \n",
        "x = img_to_array(img) \n",
        "# Reshaping the input image \n",
        "x = x.reshape((1, ) + x.shape)  \n",
        "   \n",
        "# Generating and saving 5 augmented samples  \n",
        "# using the above defined parameters.  \n",
        "i = 0\n",
        "for batch in datagen.flow(x, batch_size = 1, \n",
        "                          save_to_dir ='/content/gdrive/My Drive/Augment1',  \n",
        "                          save_prefix ='Augment', save_format ='jpeg'): \n",
        "    i += 1\n",
        "    if i > 6: \n",
        "        break"
      ],
      "execution_count": 0,
      "outputs": []
    }
  ]
}